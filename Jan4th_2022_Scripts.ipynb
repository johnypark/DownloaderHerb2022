{
 "cells": [
  {
   "cell_type": "code",
   "execution_count": null,
   "metadata": {},
   "outputs": [],
   "source": [
    "import pandas as pd"
   ]
  },
  {
   "cell_type": "code",
   "execution_count": null,
   "metadata": {},
   "outputs": [],
   "source": [
    "#https://stackoverflow.com/questions/7138686/how-to-write-a-list-to-a-file-with-newlines-in-python3\n",
    "import pandas as pd\n",
    "df_d=pd.read_table('herbarium2022-v2_2-limited.tsv')\n",
    "Ss=set(df_d.downloadHost)\n",
    "StringOut='\\n'.join(str(h) for h in Ss)\n",
    "with open('dlHosts.txt','w') as ff:\n",
    "    ff.write(StringOut)\n",
    "    ff.close()"
   ]
  }
 ],
 "metadata": {
  "language_info": {
   "name": "python"
  },
  "orig_nbformat": 4
 },
 "nbformat": 4,
 "nbformat_minor": 2
}
